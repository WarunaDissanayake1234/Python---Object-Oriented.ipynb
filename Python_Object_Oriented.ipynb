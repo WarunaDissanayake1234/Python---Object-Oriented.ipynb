{
  "nbformat": 4,
  "nbformat_minor": 0,
  "metadata": {
    "colab": {
      "provenance": [],
      "authorship_tag": "ABX9TyMRaH0HvHBzJjDRHe53pYxf",
      "include_colab_link": true
    },
    "kernelspec": {
      "name": "python3",
      "display_name": "Python 3"
    },
    "language_info": {
      "name": "python"
    }
  },
  "cells": [
    {
      "cell_type": "markdown",
      "metadata": {
        "id": "view-in-github",
        "colab_type": "text"
      },
      "source": [
        "<a href=\"https://colab.research.google.com/github/WarunaDissanayake1234/Python---Object-Oriented.ipynb/blob/main/Python_Object_Oriented.ipynb\" target=\"_parent\"><img src=\"https://colab.research.google.com/assets/colab-badge.svg\" alt=\"Open In Colab\"/></a>"
      ]
    },
    {
      "cell_type": "markdown",
      "source": [
        "**Creating Classes**"
      ],
      "metadata": {
        "id": "Cij6aIztBfSP"
      }
    },
    {
      "cell_type": "code",
      "execution_count": null,
      "metadata": {
        "id": "qB2bco3ZBZT5"
      },
      "outputs": [],
      "source": [
        "class ClassName:\n",
        "   'Optional class documentation string'\n",
        "   class_suite"
      ]
    },
    {
      "cell_type": "code",
      "source": [
        "# Example\n",
        "\n",
        "class Employee:\n",
        "   'Common base class for all employees'\n",
        "   empCount = 0\n",
        "\n",
        "   def __init__(self, name, salary):#constructor or initialization method\n",
        "      self.name = name\n",
        "      self.salary = salary\n",
        "      Employee.empCount += 1\n",
        "\n",
        "   def displayCount(self):\n",
        "     print \"Total Employee %d\" % Employee.empCount\n",
        "\n",
        "   def displayEmployee(self):\n",
        "      print \"Name : \", self.name,  \", Salary: \", self.salary"
      ],
      "metadata": {
        "id": "j66YDS5oBqLd"
      },
      "execution_count": null,
      "outputs": []
    },
    {
      "cell_type": "markdown",
      "source": [
        "The variable empCount is a class variable whose value is shared among all instances of a this class. This can be accessed as Employee.empCount from inside the class or outside the class.\n",
        "\n",
        "The first method __init__() is a special method, which is called class constructor or initialization method that Python calls when you create a new instance of this class.\n",
        "\n",
        "You declare other class methods like normal functions with the exception that the first argument to each method is self. Python adds the self argument to the list for you; you do not need to include it when you call the methods."
      ],
      "metadata": {
        "id": "uZi9EW-MB_RU"
      }
    },
    {
      "cell_type": "markdown",
      "source": [
        "Creating Instance Objects"
      ],
      "metadata": {
        "id": "W4WvPpXoCvRf"
      }
    },
    {
      "cell_type": "code",
      "source": [
        "\"This would create first object of Employee class\"\n",
        "emp1 = Employee(\"Zara\", 2000)\n",
        "\"This would create second object of Employee class\"\n",
        "emp2 = Employee(\"Manni\", 5000)"
      ],
      "metadata": {
        "id": "KjW8c6NZC32m"
      },
      "execution_count": null,
      "outputs": []
    },
    {
      "cell_type": "markdown",
      "source": [
        "Accessing Attributes\n"
      ],
      "metadata": {
        "id": "5H2CL92zC-x8"
      }
    },
    {
      "cell_type": "code",
      "source": [
        "emp1.displayEmployee()\n",
        "emp2.displayEmployee()\n",
        "print \"Total Employee %d\" % Employee.empCount"
      ],
      "metadata": {
        "id": "O0pVgeMbC74r"
      },
      "execution_count": null,
      "outputs": []
    },
    {
      "cell_type": "markdown",
      "source": [
        "**Now, putting all the concepts together**"
      ],
      "metadata": {
        "id": "gb25DFeMDRME"
      }
    },
    {
      "cell_type": "code",
      "source": [
        "class Employee:\n",
        "   'Common base class for all employees'\n",
        "   empCount = 0\n",
        "\n",
        "   def __init__(self, name, salary):\n",
        "      self.name = name\n",
        "      self.salary = salary\n",
        "      Employee.empCount += 1\n",
        "\n",
        "   def displayCount(self):\n",
        "     print(\"Total Employee\", Employee.empCount)\n",
        "\n",
        "   def displayEmployee(self):\n",
        "      print(\"Name : \", self.name, \", Salary: \", self.salary)\n",
        "\n",
        "\"This would create first object of Employee class\"\n",
        "emp1 = Employee(\"Zara\", 2000)\n",
        "\"This would create second object of Employee class\"\n",
        "emp2 = Employee(\"Manni\", 5000)\n",
        "emp1.displayEmployee()\n",
        "emp2.displayEmployee()\n",
        "print(\"Total Employee %d\" % Employee.empCount)"
      ],
      "metadata": {
        "colab": {
          "base_uri": "https://localhost:8080/"
        },
        "id": "3LEq5uzzDW68",
        "outputId": "17cb0b6e-5afc-4b2f-bd1d-13ad8658389a"
      },
      "execution_count": 4,
      "outputs": [
        {
          "output_type": "stream",
          "name": "stdout",
          "text": [
            "Name :  Zara , Salary:  2000\n",
            "Name :  Manni , Salary:  5000\n",
            "Total Employee 2\n"
          ]
        }
      ]
    }
  ]
}